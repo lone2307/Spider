{
 "cells": [
  {
   "cell_type": "markdown",
   "id": "1f846ca3",
   "metadata": {},
   "source": [
    "# Model Inference"
   ]
  },
  {
   "cell_type": "code",
   "execution_count": null,
   "id": "d99ab706",
   "metadata": {},
   "outputs": [],
   "source": [
    "import torch\n"
   ]
  },
  {
   "cell_type": "markdown",
   "id": "43ceef39",
   "metadata": {},
   "source": [
    "# Load Model in Evaluation mode"
   ]
  },
  {
   "cell_type": "code",
   "execution_count": null,
   "id": "c3b7c83f",
   "metadata": {},
   "outputs": [],
   "source": [
    "from transformer import Transformer\n",
    "from save import load_model\n",
    "from device import device\n",
    "\n",
    "model = Transformer()\n",
    "model = model.to(device)\n",
    "\n",
    "load_model(model)\n",
    "model.eval()"
   ]
  },
  {
   "cell_type": "markdown",
   "id": "48fe88ed",
   "metadata": {},
   "source": [
    "# Load Tokenizer"
   ]
  },
  {
   "cell_type": "code",
   "execution_count": null,
   "id": "8d01ac87",
   "metadata": {},
   "outputs": [],
   "source": [
    "from WordPiece import tokenizer\n",
    "\n",
    "vocab = tokenizer()\n",
    "vocab.token_gen()"
   ]
  },
  {
   "cell_type": "markdown",
   "id": "a5235c19",
   "metadata": {},
   "source": [
    "# Text generation"
   ]
  },
  {
   "cell_type": "code",
   "execution_count": null,
   "id": "0cec6592",
   "metadata": {},
   "outputs": [],
   "source": [
    "sample_text = \"brother may I have\"\n",
    "\n",
    "encoded_sample = vocab.encoder(sample_text.lower())\n",
    "encoded_sample = torch.tensor(encoded_sample, dtype= torch.long).unsqueeze(0)\n",
    "\n",
    "output_sample = model.generate(encoded_sample, 100)[0]\n",
    "output_sample = vocab.decoder(output_sample.tolist())\n",
    "\n",
    "print(output_sample)"
   ]
  }
 ],
 "metadata": {
  "language_info": {
   "name": "python"
  }
 },
 "nbformat": 4,
 "nbformat_minor": 5
}
