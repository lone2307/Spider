{
 "cells": [
  {
   "cell_type": "markdown",
   "id": "a37101be",
   "metadata": {},
   "source": [
    "# Training Spider 30k"
   ]
  },
  {
   "cell_type": "markdown",
   "id": "cda0702a",
   "metadata": {},
   "source": [
    "Import general settings"
   ]
  },
  {
   "cell_type": "code",
   "execution_count": null,
   "id": "6d10b4d3",
   "metadata": {},
   "outputs": [],
   "source": [
    "import torch\n",
    "from settings import *"
   ]
  },
  {
   "cell_type": "markdown",
   "id": "31ac34dc",
   "metadata": {},
   "source": [
    "# Training Tokenizer"
   ]
  },
  {
   "cell_type": "markdown",
   "id": "4b40e003",
   "metadata": {},
   "source": [
    "Import Tokenizer"
   ]
  },
  {
   "cell_type": "code",
   "execution_count": null,
   "id": "db68f74b",
   "metadata": {},
   "outputs": [],
   "source": [
    "from settings import *\n",
    "from WordPiece import tokenizer\n",
    "\n",
    "new_tokenizer = tokenizer()\n",
    "new_tokenizer.load_vocab()"
   ]
  },
  {
   "cell_type": "markdown",
   "id": "0f579dda",
   "metadata": {},
   "source": [
    "Testing Tokenizer"
   ]
  },
  {
   "cell_type": "code",
   "execution_count": null,
   "id": "72a82da7",
   "metadata": {},
   "outputs": [],
   "source": [
    "sample_text = \"What work's, my countrymen, in hand? where go you. With bats and clubs?\"\n",
    "\n",
    "test = new_tokenizer.encoder(sample_text)\n",
    "\n",
    "print(\"Sample:  \" + sample_text)\n",
    "print(\"-\" * 40)\n",
    "print(f\"Encoded: {test}\")\n",
    "print(\"-\" * 40)\n",
    "print(\"Decoded: \" + new_tokenizer.decoder(test))"
   ]
  },
  {
   "cell_type": "markdown",
   "id": "d501cb62",
   "metadata": {},
   "source": [
    "# Importing Model"
   ]
  },
  {
   "cell_type": "code",
   "execution_count": null,
   "id": "a5b5e369",
   "metadata": {},
   "outputs": [],
   "source": [
    "from transformer import Transformer\n",
    "from device import device\n",
    "\n",
    "model = Transformer()\n",
    "model = model.to(device)"
   ]
  },
  {
   "cell_type": "markdown",
   "id": "72d4a123",
   "metadata": {},
   "source": [
    "Get model total parameters"
   ]
  },
  {
   "cell_type": "code",
   "execution_count": null,
   "id": "b3c9f25e",
   "metadata": {},
   "outputs": [],
   "source": [
    "from param import get_param\n",
    "\n",
    "print(get_param(model))"
   ]
  },
  {
   "cell_type": "markdown",
   "id": "29325427",
   "metadata": {},
   "source": [
    "# Define Optimizer and Scheduler"
   ]
  },
  {
   "cell_type": "code",
   "execution_count": null,
   "id": "ca033f37",
   "metadata": {},
   "outputs": [],
   "source": [
    "def criterion(output, expected):\n",
    "    return torch.nn.functional.cross_entropy(output.reshape(-1, vocab_size), expected.reshape(-1))\n",
    "\n",
    "optimizer = torch.optim.AdamW(model.parameters(), lr=1, fused=True)\n",
    "scheduler = torch.optim.lr_scheduler.LambdaLR(optimizer, variable_lr)"
   ]
  },
  {
   "cell_type": "markdown",
   "id": "e20337ee",
   "metadata": {},
   "source": [
    "# Setup Trainer function"
   ]
  },
  {
   "cell_type": "markdown",
   "id": "033b228c",
   "metadata": {},
   "source": [
    "Setup Dataloader"
   ]
  },
  {
   "cell_type": "code",
   "execution_count": null,
   "id": "38aedeae",
   "metadata": {},
   "outputs": [],
   "source": [
    "from data_loader import dataLoad\n",
    "from torch.utils.data import DataLoader\n",
    "\n",
    "dataloader  = DataLoader(dataLoad(True), batch_size, True)"
   ]
  },
  {
   "cell_type": "markdown",
   "id": "0b5f4542",
   "metadata": {},
   "source": [
    "Setup Trainer"
   ]
  },
  {
   "cell_type": "code",
   "execution_count": null,
   "id": "3f960c3d",
   "metadata": {},
   "outputs": [],
   "source": [
    "from trainer import Trainer\n",
    "\n",
    "trainer = Trainer(criterion, optimizer, scheduler)"
   ]
  },
  {
   "cell_type": "markdown",
   "id": "cdfaa2dd",
   "metadata": {},
   "source": [
    "Training"
   ]
  },
  {
   "cell_type": "code",
   "execution_count": null,
   "id": "7bb13a13",
   "metadata": {},
   "outputs": [],
   "source": [
    "trainer.train(model, dataloader, 2, batch_limit)"
   ]
  }
 ],
 "metadata": {
  "language_info": {
   "name": "python"
  }
 },
 "nbformat": 4,
 "nbformat_minor": 5
}
